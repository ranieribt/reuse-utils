{
  "nbformat": 4,
  "nbformat_minor": 0,
  "metadata": {
    "colab": {
      "name": "reuse-pacote-github.ipynb",
      "provenance": [],
      "authorship_tag": "ABX9TyOLR3UpMgOE9SojoSr9lLqv",
      "include_colab_link": true
    },
    "kernelspec": {
      "name": "python3",
      "display_name": "Python 3"
    },
    "language_info": {
      "name": "python"
    }
  },
  "cells": [
    {
      "cell_type": "markdown",
      "metadata": {
        "id": "view-in-github",
        "colab_type": "text"
      },
      "source": [
        "<a href=\"https://colab.research.google.com/github/ranieribt/reuse-utils/blob/main/reuse_pacote_github.ipynb\" target=\"_parent\"><img src=\"https://colab.research.google.com/assets/colab-badge.svg\" alt=\"Open In Colab\"/></a>"
      ]
    },
    {
      "cell_type": "markdown",
      "source": [
        "# Como reusar módulos Python a partir do GitHub\n",
        "\n",
        "Por questões de acesso ao GitHub, o código reusável precisa estar em um repo público.\n",
        "\n",
        "Exemplo:\n",
        "\n",
        "https://github.com/ranieribt/reuse-utils\n",
        "\n",
        "Este repo tem a estrutura de um pacote Python:\n",
        "\n",
        "- arquivo setup.py define o nome do pacode como 'reuse'\n",
        "- arquivo __init__.py no dir src"
      ],
      "metadata": {
        "id": "666A8_8gFrCK"
      }
    },
    {
      "cell_type": "code",
      "execution_count": 1,
      "metadata": {
        "colab": {
          "base_uri": "https://localhost:8080/"
        },
        "id": "9ly1wMdtFmfn",
        "outputId": "131944e4-45c0-49ff-9c75-cfbfb8a235de"
      },
      "outputs": [
        {
          "output_type": "stream",
          "name": "stdout",
          "text": [
            "Looking in indexes: https://pypi.org/simple, https://us-python.pkg.dev/colab-wheels/public/simple/\n",
            "Collecting git+https://github.com/ranieribt/reuse-utils\n",
            "  Cloning https://github.com/ranieribt/reuse-utils to /tmp/pip-req-build-ejuq_uch\n",
            "  Running command git clone -q https://github.com/ranieribt/reuse-utils /tmp/pip-req-build-ejuq_uch\n",
            "Building wheels for collected packages: reuse\n",
            "  Building wheel for reuse (setup.py) ... \u001b[?25l\u001b[?25hdone\n",
            "  Created wheel for reuse: filename=reuse-0.0.0-py3-none-any.whl size=2475 sha256=1e54679e08084f5e6e819b08911dc1a066fb3cc6ca7e32913805cf808cc6a7bf\n",
            "  Stored in directory: /tmp/pip-ephem-wheel-cache-i46m4emc/wheels/e5/ba/77/c6adae75b96f8c1b3ddef23f309a342067878a808e1f9db0d5\n",
            "Successfully built reuse\n",
            "Installing collected packages: reuse\n",
            "Successfully installed reuse-0.0.0\n"
          ]
        }
      ],
      "source": [
        "!pip install --upgrade {'git+https://github.com/ranieribt/reuse-utils'}"
      ]
    },
    {
      "cell_type": "code",
      "source": [
        "from reuse import hellow\n",
        "hellow.hello()"
      ],
      "metadata": {
        "colab": {
          "base_uri": "https://localhost:8080/"
        },
        "id": "mnIpSfXXGh4V",
        "outputId": "af8ae551-218f-494f-8e40-5ffd0af8f065"
      },
      "execution_count": 3,
      "outputs": [
        {
          "output_type": "stream",
          "name": "stdout",
          "text": [
            "Hello, World\n"
          ]
        }
      ]
    }
  ]
}