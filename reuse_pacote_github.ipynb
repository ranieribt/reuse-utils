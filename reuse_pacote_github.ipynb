{
  "nbformat": 4,
  "nbformat_minor": 0,
  "metadata": {
    "colab": {
      "name": "reuse-pacote-github.ipynb",
      "provenance": [],
      "collapsed_sections": [],
      "authorship_tag": "ABX9TyMpJ1lHuc647ffuUE1KAoOT",
      "include_colab_link": true
    },
    "kernelspec": {
      "name": "python3",
      "display_name": "Python 3"
    },
    "language_info": {
      "name": "python"
    }
  },
  "cells": [
    {
      "cell_type": "markdown",
      "metadata": {
        "id": "view-in-github",
        "colab_type": "text"
      },
      "source": [
        "<a href=\"https://colab.research.google.com/github/ranieribt/reuse-utils/blob/main/reuse_pacote_github.ipynb\" target=\"_parent\"><img src=\"https://colab.research.google.com/assets/colab-badge.svg\" alt=\"Open In Colab\"/></a>"
      ]
    },
    {
      "cell_type": "markdown",
      "source": [
        "# Como reusar módulos Python a partir do GitHub\n",
        "\n",
        "Por questões de acesso ao GitHub, o código reusável precisa estar em um repo público.\n",
        "\n",
        "Exemplo:\n",
        "\n",
        "https://github.com/ranieribt/reuse-utils\n",
        "\n",
        "Este repo tem a estrutura de um pacote Python:\n",
        "\n",
        "- arquivo setup.py define o nome do pacote como 'reuse'\n",
        "- arquivo \\_\\_init\\_\\_.py no dir src\n",
        "\n",
        "Ref.: [Downloading_Python_source_files_from_github](https://colab.research.google.com/github/jckantor/cbe61622/blob/master/docs/A.02-Downloading_Python_source_files_from_github.ipynb#scrollTo=twj_Y9e8UxHT)"
      ],
      "metadata": {
        "id": "666A8_8gFrCK"
      }
    },
    {
      "cell_type": "code",
      "execution_count": 1,
      "metadata": {
        "colab": {
          "base_uri": "https://localhost:8080/"
        },
        "id": "9ly1wMdtFmfn",
        "outputId": "2bde4129-c090-487c-fdc5-f2d8acaaa4e0"
      },
      "outputs": [
        {
          "output_type": "stream",
          "name": "stdout",
          "text": [
            "Looking in indexes: https://pypi.org/simple, https://us-python.pkg.dev/colab-wheels/public/simple/\n",
            "Collecting git+https://github.com/ranieribt/reuse-utils\n",
            "  Cloning https://github.com/ranieribt/reuse-utils to /tmp/pip-req-build-ic71dkmb\n",
            "  Running command git clone -q https://github.com/ranieribt/reuse-utils /tmp/pip-req-build-ic71dkmb\n",
            "Building wheels for collected packages: reuse\n",
            "  Building wheel for reuse (setup.py) ... \u001b[?25l\u001b[?25hdone\n",
            "  Created wheel for reuse: filename=reuse-0.0.0-py3-none-any.whl size=2512 sha256=34f8eef453fc28430c25fda4334744771643ee2f4ffa6ff3d024e50b661d3b68\n",
            "  Stored in directory: /tmp/pip-ephem-wheel-cache-gxg71b09/wheels/e5/ba/77/c6adae75b96f8c1b3ddef23f309a342067878a808e1f9db0d5\n",
            "Successfully built reuse\n",
            "Installing collected packages: reuse\n",
            "Successfully installed reuse-0.0.0\n"
          ]
        }
      ],
      "source": [
        "!pip install --upgrade {'git+https://github.com/ranieribt/reuse-utils'}"
      ]
    },
    {
      "cell_type": "code",
      "source": [
        "from reuse import modulo\n",
        "modulo.fn_exemplo()"
      ],
      "metadata": {
        "colab": {
          "base_uri": "https://localhost:8080/"
        },
        "id": "mnIpSfXXGh4V",
        "outputId": "c4258375-b5db-4ad2-b491-c2316bc0eb76"
      },
      "execution_count": 2,
      "outputs": [
        {
          "output_type": "stream",
          "name": "stdout",
          "text": [
            "Funciona!\n"
          ]
        }
      ]
    }
  ]
}